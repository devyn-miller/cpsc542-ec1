{
 "cells": [
  {
   "cell_type": "code",
   "execution_count": 5,
   "metadata": {},
   "outputs": [],
   "source": [
    "import warnings\n",
    "warnings.filterwarnings(\"ignore\")\n",
    "import importlib\n",
    "import tensorflow as tf\n",
    "import os\n",
    "\n",
    "# Import modules from src\n",
    "import src.augmentation as augmentation_module\n",
    "import src.train as train_module\n",
    "import src.evaluation as evaluation_module\n",
    "import src.predict as predict_module\n",
    "import src.dataloader_eda as dataloader_eda_module\n",
    "import src.model as model_module  # Import the model\n",
    "\n",
    "# Reload the modules to ensure any changes are applied\n",
    "augmentation = importlib.reload(augmentation_module)\n",
    "train = importlib.reload(train_module)\n",
    "evaluation = importlib.reload(evaluation_module)\n",
    "predict = importlib.reload(predict_module)\n",
    "dataloader_eda = importlib.reload(dataloader_eda_module)\n",
    "model = importlib.reload(model_module)"
   ]
  },
  {
   "cell_type": "code",
   "execution_count": 2,
   "metadata": {},
   "outputs": [],
   "source": [
    "# # Define model variants\n",
    "# model_variants = ['model_variant_1', 'model_variant_2', 'model_variant_3', 'model_variant_4', 'model_variant_5']\n",
    "\n",
    "# training_image_directory = 'data/training_images/'\n",
    "# testing_image_directory = 'data/testing_images/'\n",
    "\n",
    "# training_image_filenames = [os.path.join(training_image_directory, filename) for filename in os.listdir(training_image_directory) if filename.endswith('.jpg')]\n",
    "# testing_image_filenames = [os.path.join(testing_image_directory, filename) for filename in os.listdir(testing_image_directory) if filename.endswith('.jpg')]\n",
    "\n",
    "# # Combine both lists\n",
    "# image_filenames = training_image_filenames + testing_image_filenames\n",
    "\n",
    "# # Use the first image for prediction as an example\n",
    "# first_image_path = image_filenames[0] if image_filenames else None\n",
    "\n",
    "# if first_image_path:\n",
    "#     evaluation.predict_with_variants(predict.predict_bounding_box, model_variants, first_image_path)\n",
    "# else:\n",
    "#     print(\"No images found for prediction.\")"
   ]
  },
  {
   "cell_type": "code",
   "execution_count": 7,
   "metadata": {},
   "outputs": [
    {
     "name": "stdout",
     "output_type": "stream",
     "text": [
      "Training model_variant_1\n"
     ]
    },
    {
     "ename": "NameError",
     "evalue": "name 'train_df' is not defined",
     "output_type": "error",
     "traceback": [
      "\u001b[0;31m---------------------------------------------------------------------------\u001b[0m",
      "\u001b[0;31mNameError\u001b[0m                                 Traceback (most recent call last)",
      "Cell \u001b[0;32mIn[7], line 10\u001b[0m\n\u001b[1;32m      4\u001b[0m model_variants \u001b[38;5;241m=\u001b[39m [\u001b[38;5;124m'\u001b[39m\u001b[38;5;124mmodel_variant_1\u001b[39m\u001b[38;5;124m'\u001b[39m, \u001b[38;5;124m'\u001b[39m\u001b[38;5;124mmodel_variant_2\u001b[39m\u001b[38;5;124m'\u001b[39m, \u001b[38;5;124m'\u001b[39m\u001b[38;5;124mmodel_variant_3\u001b[39m\u001b[38;5;124m'\u001b[39m, \u001b[38;5;124m'\u001b[39m\u001b[38;5;124mmodel_variant_4\u001b[39m\u001b[38;5;124m'\u001b[39m, \u001b[38;5;124m'\u001b[39m\u001b[38;5;124mmodel_variant_5\u001b[39m\u001b[38;5;124m'\u001b[39m]\n\u001b[1;32m      6\u001b[0m \u001b[38;5;66;03m# Train all model variants with augmentation\u001b[39;00m\n\u001b[1;32m      7\u001b[0m \u001b[38;5;66;03m# evaluation.train_all_variants(train.train_model, lambda: augmentation_instance, model_variants)\u001b[39;00m\n\u001b[1;32m      8\u001b[0m \u001b[38;5;66;03m# Assuming dataloader_eda.data_generator is a function that needs to be called to get the generator\u001b[39;00m\n\u001b[1;32m      9\u001b[0m \u001b[38;5;66;03m# and augmentation_instance is an argument it requires.\u001b[39;00m\n\u001b[0;32m---> 10\u001b[0m evaluation\u001b[38;5;241m.\u001b[39mtrain_all_variants(\n\u001b[1;32m     11\u001b[0m     train\u001b[38;5;241m.\u001b[39mtrain_model,\n\u001b[1;32m     12\u001b[0m     \u001b[38;5;28;01mlambda\u001b[39;00m variant: model\u001b[38;5;241m.\u001b[39mmodel(),  \u001b[38;5;66;03m# Assuming this correctly creates a model based on the variant\u001b[39;00m\n\u001b[1;32m     13\u001b[0m     \u001b[38;5;28;01mlambda\u001b[39;00m variant: \u001b[38;5;28;01mlambda\u001b[39;00m: dataloader_eda\u001b[38;5;241m.\u001b[39mdata_generator(df\u001b[38;5;241m=\u001b[39mtrain_df, batch_size\u001b[38;5;241m=\u001b[39m\u001b[38;5;241m64\u001b[39m, path\u001b[38;5;241m=\u001b[39mtrain_path, augmentation\u001b[38;5;241m=\u001b[39maugmentation_instance),\n\u001b[1;32m     14\u001b[0m     model_variants\n\u001b[1;32m     15\u001b[0m )\n\u001b[1;32m     16\u001b[0m training_image_directory \u001b[38;5;241m=\u001b[39m \u001b[38;5;124m'\u001b[39m\u001b[38;5;124mdata/training_images/\u001b[39m\u001b[38;5;124m'\u001b[39m\n\u001b[1;32m     17\u001b[0m testing_image_directory \u001b[38;5;241m=\u001b[39m \u001b[38;5;124m'\u001b[39m\u001b[38;5;124mdata/testing_images/\u001b[39m\u001b[38;5;124m'\u001b[39m\n",
      "File \u001b[0;32m~/Downloads/ec1-cpsc542/src/evaluation.py:8\u001b[0m, in \u001b[0;36mtrain_all_variants\u001b[0;34m(train_model_func, create_model_func, create_data_generator_func, model_variants)\u001b[0m\n\u001b[1;32m      5\u001b[0m model \u001b[38;5;241m=\u001b[39m create_model_func(variant)  \u001b[38;5;66;03m# Use create_model_func to create/load the model\u001b[39;00m\n\u001b[1;32m      6\u001b[0m data_generator \u001b[38;5;241m=\u001b[39m create_data_generator_func(variant)  \u001b[38;5;66;03m# Use create_data_generator_func\u001b[39;00m\n\u001b[0;32m----> 8\u001b[0m train_model_func(model\u001b[38;5;241m=\u001b[39mmodel, data_generator\u001b[38;5;241m=\u001b[39mdata_generator, epochs\u001b[38;5;241m=\u001b[39m\u001b[38;5;241m10\u001b[39m, batch_size\u001b[38;5;241m=\u001b[39m\u001b[38;5;241m64\u001b[39m, model_variant\u001b[38;5;241m=\u001b[39mvariant)\n",
      "File \u001b[0;32m~/Downloads/ec1-cpsc542/src/train.py:10\u001b[0m, in \u001b[0;36mtrain_model\u001b[0;34m(model, data_generator, epochs, batch_size, model_variant, augmentation)\u001b[0m\n\u001b[1;32m      9\u001b[0m \u001b[38;5;28;01mdef\u001b[39;00m \u001b[38;5;21mtrain_model\u001b[39m(model, data_generator, epochs\u001b[38;5;241m=\u001b[39m\u001b[38;5;241m1\u001b[39m, batch_size\u001b[38;5;241m=\u001b[39m\u001b[38;5;241m64\u001b[39m, model_variant\u001b[38;5;241m=\u001b[39m\u001b[38;5;124m'\u001b[39m\u001b[38;5;124m'\u001b[39m, augmentation\u001b[38;5;241m=\u001b[39m\u001b[38;5;28;01mNone\u001b[39;00m):\n\u001b[0;32m---> 10\u001b[0m     total_images \u001b[38;5;241m=\u001b[39m \u001b[38;5;28mlen\u001b[39m(data_generator()\u001b[38;5;241m.\u001b[39mdataset)  \u001b[38;5;66;03m# Assuming data_generator has a dataset attribute\u001b[39;00m\n\u001b[1;32m     11\u001b[0m     steps_per_epoch \u001b[38;5;241m=\u001b[39m total_images \u001b[38;5;241m/\u001b[39m\u001b[38;5;241m/\u001b[39m batch_size\n\u001b[1;32m     12\u001b[0m     logging\u001b[38;5;241m.\u001b[39minfo(\u001b[38;5;124m\"\u001b[39m\u001b[38;5;124mStarting model training for \u001b[39m\u001b[38;5;124m\"\u001b[39m \u001b[38;5;241m+\u001b[39m model_variant)\n",
      "Cell \u001b[0;32mIn[7], line 13\u001b[0m, in \u001b[0;36m<lambda>\u001b[0;34m()\u001b[0m\n\u001b[1;32m      4\u001b[0m model_variants \u001b[38;5;241m=\u001b[39m [\u001b[38;5;124m'\u001b[39m\u001b[38;5;124mmodel_variant_1\u001b[39m\u001b[38;5;124m'\u001b[39m, \u001b[38;5;124m'\u001b[39m\u001b[38;5;124mmodel_variant_2\u001b[39m\u001b[38;5;124m'\u001b[39m, \u001b[38;5;124m'\u001b[39m\u001b[38;5;124mmodel_variant_3\u001b[39m\u001b[38;5;124m'\u001b[39m, \u001b[38;5;124m'\u001b[39m\u001b[38;5;124mmodel_variant_4\u001b[39m\u001b[38;5;124m'\u001b[39m, \u001b[38;5;124m'\u001b[39m\u001b[38;5;124mmodel_variant_5\u001b[39m\u001b[38;5;124m'\u001b[39m]\n\u001b[1;32m      6\u001b[0m \u001b[38;5;66;03m# Train all model variants with augmentation\u001b[39;00m\n\u001b[1;32m      7\u001b[0m \u001b[38;5;66;03m# evaluation.train_all_variants(train.train_model, lambda: augmentation_instance, model_variants)\u001b[39;00m\n\u001b[1;32m      8\u001b[0m \u001b[38;5;66;03m# Assuming dataloader_eda.data_generator is a function that needs to be called to get the generator\u001b[39;00m\n\u001b[1;32m      9\u001b[0m \u001b[38;5;66;03m# and augmentation_instance is an argument it requires.\u001b[39;00m\n\u001b[1;32m     10\u001b[0m evaluation\u001b[38;5;241m.\u001b[39mtrain_all_variants(\n\u001b[1;32m     11\u001b[0m     train\u001b[38;5;241m.\u001b[39mtrain_model,\n\u001b[1;32m     12\u001b[0m     \u001b[38;5;28;01mlambda\u001b[39;00m variant: model\u001b[38;5;241m.\u001b[39mmodel(),  \u001b[38;5;66;03m# Assuming this correctly creates a model based on the variant\u001b[39;00m\n\u001b[0;32m---> 13\u001b[0m     \u001b[38;5;28;01mlambda\u001b[39;00m variant: \u001b[38;5;28;01mlambda\u001b[39;00m: dataloader_eda\u001b[38;5;241m.\u001b[39mdata_generator(df\u001b[38;5;241m=\u001b[39mtrain_df, batch_size\u001b[38;5;241m=\u001b[39m\u001b[38;5;241m64\u001b[39m, path\u001b[38;5;241m=\u001b[39mtrain_path, augmentation\u001b[38;5;241m=\u001b[39maugmentation_instance),\n\u001b[1;32m     14\u001b[0m     model_variants\n\u001b[1;32m     15\u001b[0m )\n\u001b[1;32m     16\u001b[0m training_image_directory \u001b[38;5;241m=\u001b[39m \u001b[38;5;124m'\u001b[39m\u001b[38;5;124mdata/training_images/\u001b[39m\u001b[38;5;124m'\u001b[39m\n\u001b[1;32m     17\u001b[0m testing_image_directory \u001b[38;5;241m=\u001b[39m \u001b[38;5;124m'\u001b[39m\u001b[38;5;124mdata/testing_images/\u001b[39m\u001b[38;5;124m'\u001b[39m\n",
      "\u001b[0;31mNameError\u001b[0m: name 'train_df' is not defined"
     ]
    }
   ],
   "source": [
    "augmentation_instance = augmentation.create_augmentation()\n",
    "\n",
    "# Define model variants\n",
    "model_variants = ['model_variant_1', 'model_variant_2', 'model_variant_3', 'model_variant_4', 'model_variant_5']\n",
    "\n",
    "# Train all model variants with augmentation\n",
    "# evaluation.train_all_variants(train.train_model, lambda: augmentation_instance, model_variants)\n",
    "# Assuming dataloader_eda.data_generator is a function that needs to be called to get the generator\n",
    "# and augmentation_instance is an argument it requires.\n",
    "evaluation.train_all_variants(\n",
    "    train.train_model,\n",
    "    lambda variant: model.model(),  # Assuming this correctly creates a model based on the variant\n",
    "    lambda variant: lambda: dataloader_eda.data_generator(df=train_df, batch_size=64, path=train_path, augmentation=augmentation_instance),\n",
    "    model_variants\n",
    ")\n",
    "training_image_directory = 'data/training_images/'\n",
    "testing_image_directory = 'data/testing_images/'\n",
    "\n",
    "training_image_filenames = [os.path.join(training_image_directory, filename) for filename in os.listdir(training_image_directory) if filename.endswith('.jpg')]\n",
    "testing_image_filenames = [os.path.join(testing_image_directory, filename) for filename in os.listdir(testing_image_directory) if filename.endswith('.jpg')]\n",
    "\n",
    "# Combine both lists\n",
    "image_filenames = training_image_filenames + testing_image_filenames\n",
    "\n",
    "# Use the first image for prediction as an example\n",
    "first_image_path = image_filenames[0] if image_filenames else None\n",
    "\n",
    "if first_image_path:\n",
    "    evaluation.predict_with_variants(predict.predict_bounding_box, model_variants, first_image_path)\n",
    "else:\n",
    "    print(\"No images found for prediction.\")\n",
    "\n",
    "# Predict on all images\n",
    "for image_path in image_filenames:\n",
    "    evaluation.predict_with_variants(predict.predict_bounding_box, model_variants, image_path)\n",
    "\n",
    "\n"
   ]
  },
  {
   "cell_type": "code",
   "execution_count": 3,
   "metadata": {},
   "outputs": [
    {
     "ename": "TypeError",
     "evalue": "train_all_variants() missing 1 required positional argument: 'model_variants'",
     "output_type": "error",
     "traceback": [
      "\u001b[0;31m---------------------------------------------------------------------------\u001b[0m",
      "\u001b[0;31mTypeError\u001b[0m                                 Traceback (most recent call last)",
      "Cell \u001b[0;32mIn[3], line 8\u001b[0m\n\u001b[1;32m      5\u001b[0m model_variants \u001b[38;5;241m=\u001b[39m [\u001b[38;5;124m'\u001b[39m\u001b[38;5;124mmodel_variant_1\u001b[39m\u001b[38;5;124m'\u001b[39m, \u001b[38;5;124m'\u001b[39m\u001b[38;5;124mmodel_variant_2\u001b[39m\u001b[38;5;124m'\u001b[39m, \u001b[38;5;124m'\u001b[39m\u001b[38;5;124mmodel_variant_3\u001b[39m\u001b[38;5;124m'\u001b[39m, \u001b[38;5;124m'\u001b[39m\u001b[38;5;124mmodel_variant_4\u001b[39m\u001b[38;5;124m'\u001b[39m, \u001b[38;5;124m'\u001b[39m\u001b[38;5;124mmodel_variant_5\u001b[39m\u001b[38;5;124m'\u001b[39m]\n\u001b[1;32m      7\u001b[0m \u001b[38;5;66;03m# Train all model variants with augmentation\u001b[39;00m\n\u001b[0;32m----> 8\u001b[0m evaluation\u001b[38;5;241m.\u001b[39mtrain_all_variants(train\u001b[38;5;241m.\u001b[39mtrain_model, \u001b[38;5;28;01mlambda\u001b[39;00m: augmentation_instance, model_variants)\n\u001b[1;32m     10\u001b[0m \u001b[38;5;66;03m# Assuming the rest of the code for prediction remains the same\u001b[39;00m\n\u001b[1;32m     11\u001b[0m training_image_directory \u001b[38;5;241m=\u001b[39m \u001b[38;5;124m'\u001b[39m\u001b[38;5;124mdata/training_images/\u001b[39m\u001b[38;5;124m'\u001b[39m\n",
      "\u001b[0;31mTypeError\u001b[0m: train_all_variants() missing 1 required positional argument: 'model_variants'"
     ]
    }
   ],
   "source": [
    "# Initialize data augmentation\n",
    "augmentation_instance = augmentation.create_augmentation()\n",
    "\n",
    "# Define model variants\n",
    "model_variants = ['model_variant_1', 'model_variant_2', 'model_variant_3', 'model_variant_4', 'model_variant_5']\n",
    "\n",
    "# Train all model variants with augmentation\n",
    "evaluation.train_all_variants(train.train_model, lambda: augmentation_instance, model_variants)\n",
    "\n",
    "# Assuming the rest of the code for prediction remains the same\n",
    "training_image_directory = 'data/training_images/'\n",
    "testing_image_directory = 'data/testing_images/'\n",
    "\n",
    "training_image_filenames = [os.path.join(training_image_directory, filename) for filename in os.listdir(training_image_directory) if filename.endswith('.jpg')]\n",
    "testing_image_filenames = [os.path.join(testing_image_directory, filename) for filename in os.listdir(testing_image_directory) if filename.endswith('.jpg')]\n",
    "\n",
    "# Combine both lists\n",
    "image_filenames = training_image_filenames + testing_image_filenames\n",
    "\n",
    "# Use the first image for prediction as an example\n",
    "first_image_path = image_filenames[0] if image_filenames else None\n",
    "\n",
    "if first_image_path:\n",
    "    evaluation.predict_with_variants(predict.predict_bounding_box, model_variants, first_image_path)\n",
    "else:\n",
    "    print(\"No images found for prediction.\")\n",
    "\n",
    "# Predict on all images\n",
    "for image_path in image_filenames:\n",
    "    evaluation.predict_with_variants(predict.predict_bounding_box, model_variants, image_path)\n",
    "\n",
    "\n"
   ]
  }
 ],
 "metadata": {
  "kernelspec": {
   "display_name": "base",
   "language": "python",
   "name": "python3"
  },
  "language_info": {
   "codemirror_mode": {
    "name": "ipython",
    "version": 3
   },
   "file_extension": ".py",
   "mimetype": "text/x-python",
   "name": "python",
   "nbconvert_exporter": "python",
   "pygments_lexer": "ipython3",
   "version": "3.11.5"
  }
 },
 "nbformat": 4,
 "nbformat_minor": 2
}
